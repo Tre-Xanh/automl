{
 "cells": [
  {
   "cell_type": "markdown",
   "metadata": {
    "toc": true
   },
   "source": [
    "<h1>Table of Contents<span class=\"tocSkip\"></span></h1>\n",
    "<div class=\"toc\"><ul class=\"toc-item\"></ul></div>"
   ]
  },
  {
   "cell_type": "code",
   "execution_count": null,
   "metadata": {},
   "outputs": [],
   "source": [
    "# Change directory to VSCode workspace root so that relative path loads work correctly. Turn this addition off with the DataScience.changeDirOnImportExport setting\n",
    "# ms-python.python added\n",
    "import os\n",
    "try:\n",
    "\tos.chdir(os.path.join(os.getcwd(), '..'))\n",
    "\tprint(os.getcwd())\n",
    "except:\n",
    "\tpass\n"
   ]
  },
  {
   "cell_type": "code",
   "execution_count": 1,
   "metadata": {
    "tags": []
   },
   "outputs": [
    {
     "name": "stderr",
     "output_type": "stream",
     "text": [
      "INFO:automl:Start training\n",
      "INFO:automl:train_test_split (887, 8) -> (665, 8) + (222, 8)\n",
      "Checking whether there is an H2O instance running at http://localhost:54321..... not found.\n",
      "Attempting to start a local H2O server...\n",
      "  Java Version: openjdk version \"1.8.0_152-release\"; OpenJDK Runtime Environment (build 1.8.0_152-release-1056-b12); OpenJDK 64-Bit Server VM (build 25.152-b12, mixed mode)\n",
      "  Starting server from /usr/local/Caskroom/miniconda/base/envs/automl/lib/python3.8/site-packages/h2o/backend/bin/h2o.jar\n",
      "  Ice root: /var/folders/j5/1fzcsqzd2_j1s3_5d3qm447h0000gn/T/tmp0y5shhk0\n",
      "  JVM stdout: /var/folders/j5/1fzcsqzd2_j1s3_5d3qm447h0000gn/T/tmp0y5shhk0/h2o_congvc_started_from_python.out\n",
      "  JVM stderr: /var/folders/j5/1fzcsqzd2_j1s3_5d3qm447h0000gn/T/tmp0y5shhk0/h2o_congvc_started_from_python.err\n",
      "  Server is running at http://127.0.0.1:54321\n",
      "Connecting to H2O server at http://127.0.0.1:54321 ... successful.\n"
     ]
    },
    {
     "data": {
      "text/html": [
       "<div style=\"overflow:auto\"><table style=\"width:50%\"><tr><td>H2O_cluster_uptime:</td>\n",
       "<td>02 secs</td></tr>\n",
       "<tr><td>H2O_cluster_timezone:</td>\n",
       "<td>Asia/Tokyo</td></tr>\n",
       "<tr><td>H2O_data_parsing_timezone:</td>\n",
       "<td>UTC</td></tr>\n",
       "<tr><td>H2O_cluster_version:</td>\n",
       "<td>3.30.1.1</td></tr>\n",
       "<tr><td>H2O_cluster_version_age:</td>\n",
       "<td>13 days </td></tr>\n",
       "<tr><td>H2O_cluster_name:</td>\n",
       "<td>H2O_from_python_congvc_c3ir9f</td></tr>\n",
       "<tr><td>H2O_cluster_total_nodes:</td>\n",
       "<td>1</td></tr>\n",
       "<tr><td>H2O_cluster_free_memory:</td>\n",
       "<td>3.556 Gb</td></tr>\n",
       "<tr><td>H2O_cluster_total_cores:</td>\n",
       "<td>8</td></tr>\n",
       "<tr><td>H2O_cluster_allowed_cores:</td>\n",
       "<td>8</td></tr>\n",
       "<tr><td>H2O_cluster_status:</td>\n",
       "<td>accepting new members, healthy</td></tr>\n",
       "<tr><td>H2O_connection_url:</td>\n",
       "<td>http://127.0.0.1:54321</td></tr>\n",
       "<tr><td>H2O_connection_proxy:</td>\n",
       "<td>{\"http\": null, \"https\": null}</td></tr>\n",
       "<tr><td>H2O_internal_security:</td>\n",
       "<td>False</td></tr>\n",
       "<tr><td>H2O_API_Extensions:</td>\n",
       "<td>Amazon S3, XGBoost, Algos, AutoML, Core V3, TargetEncoder, Core V4</td></tr>\n",
       "<tr><td>Python_version:</td>\n",
       "<td>3.8.5 final</td></tr></table></div>"
      ],
      "text/plain": [
       "--------------------------  ------------------------------------------------------------------\n",
       "H2O_cluster_uptime:         02 secs\n",
       "H2O_cluster_timezone:       Asia/Tokyo\n",
       "H2O_data_parsing_timezone:  UTC\n",
       "H2O_cluster_version:        3.30.1.1\n",
       "H2O_cluster_version_age:    13 days\n",
       "H2O_cluster_name:           H2O_from_python_congvc_c3ir9f\n",
       "H2O_cluster_total_nodes:    1\n",
       "H2O_cluster_free_memory:    3.556 Gb\n",
       "H2O_cluster_total_cores:    8\n",
       "H2O_cluster_allowed_cores:  8\n",
       "H2O_cluster_status:         accepting new members, healthy\n",
       "H2O_connection_url:         http://127.0.0.1:54321\n",
       "H2O_connection_proxy:       {\"http\": null, \"https\": null}\n",
       "H2O_internal_security:      False\n",
       "H2O_API_Extensions:         Amazon S3, XGBoost, Algos, AutoML, Core V3, TargetEncoder, Core V4\n",
       "Python_version:             3.8.5 final\n",
       "--------------------------  ------------------------------------------------------------------"
      ]
     },
     "metadata": {},
     "output_type": "display_data"
    },
    {
     "name": "stderr",
     "output_type": "stream",
     "text": [
      "INFO:automl:Original Columns Index(['Survived', 'Pclass', 'Name', 'Sex', 'Age', 'Siblings/Spouses Aboard',\n",
      "       'Parents/Children Aboard', 'Fare'],\n",
      "      dtype='object')\n",
      "INFO:automl:df info\n",
      "         Survived      Pclass         Age  Siblings/Spouses Aboard  \\\n",
      "count  665.000000  665.000000  665.000000               665.000000   \n",
      "mean     0.387970    2.311278    0.369451                 0.497744   \n",
      "std      0.487654    0.829216    0.179606                 1.028397   \n",
      "min      0.000000    1.000000    0.000000                 0.000000   \n",
      "25%      0.000000    2.000000    0.258608                 0.000000   \n",
      "50%      0.000000    3.000000    0.346569                 0.000000   \n",
      "75%      1.000000    3.000000    0.484795                 1.000000   \n",
      "max      1.000000    3.000000    1.000000                 8.000000   \n",
      "\n",
      "       Parents/Children Aboard        Fare  \n",
      "count               665.000000  665.000000  \n",
      "mean                  0.350376    0.060866  \n",
      "std                   0.761817    0.093831  \n",
      "min                   0.000000    0.000000  \n",
      "25%                   0.000000    0.015469  \n",
      "50%                   0.000000    0.027538  \n",
      "75%                   0.000000    0.059914  \n",
      "max                   6.000000    1.000000  \n",
      "Parse progress: |█████████████████████████████████████████████████████████| 100%\n",
      "INFO:automl:df info\n",
      "         Survived      Pclass         Age  Siblings/Spouses Aboard  \\\n",
      "count  222.000000  222.000000  222.000000               222.000000   \n",
      "mean     0.378378    2.288288    0.351904                 0.608108   \n",
      "std      0.486079    0.860258    0.170570                 1.305930   \n",
      "min      0.000000    1.000000    0.005152                 0.000000   \n",
      "25%      0.000000    1.000000    0.246042                 0.000000   \n",
      "50%      0.000000    3.000000    0.321438                 0.000000   \n",
      "75%      1.000000    3.000000    0.447097                 1.000000   \n",
      "max      1.000000    3.000000    0.811510                 8.000000   \n",
      "\n",
      "       Parents/Children Aboard        Fare  \n",
      "count               222.000000  222.000000  \n",
      "mean                  0.481982    0.069615  \n",
      "std                   0.925819    0.106498  \n",
      "min                   0.000000    0.000000  \n",
      "25%                   0.000000    0.015412  \n",
      "50%                   0.000000    0.031230  \n",
      "75%                   1.000000    0.068742  \n",
      "max                   5.000000    1.000000  \n",
      "Parse progress: |█████████████████████████████████████████████████████████| 100%\n",
      "Checking whether there is an H2O instance running at http://localhost:54321. connected.\n"
     ]
    },
    {
     "data": {
      "text/html": [
       "<div style=\"overflow:auto\"><table style=\"width:50%\"><tr><td>H2O_cluster_uptime:</td>\n",
       "<td>03 secs</td></tr>\n",
       "<tr><td>H2O_cluster_timezone:</td>\n",
       "<td>Asia/Tokyo</td></tr>\n",
       "<tr><td>H2O_data_parsing_timezone:</td>\n",
       "<td>UTC</td></tr>\n",
       "<tr><td>H2O_cluster_version:</td>\n",
       "<td>3.30.1.1</td></tr>\n",
       "<tr><td>H2O_cluster_version_age:</td>\n",
       "<td>13 days </td></tr>\n",
       "<tr><td>H2O_cluster_name:</td>\n",
       "<td>H2O_from_python_congvc_c3ir9f</td></tr>\n",
       "<tr><td>H2O_cluster_total_nodes:</td>\n",
       "<td>1</td></tr>\n",
       "<tr><td>H2O_cluster_free_memory:</td>\n",
       "<td>3.541 Gb</td></tr>\n",
       "<tr><td>H2O_cluster_total_cores:</td>\n",
       "<td>8</td></tr>\n",
       "<tr><td>H2O_cluster_allowed_cores:</td>\n",
       "<td>8</td></tr>\n",
       "<tr><td>H2O_cluster_status:</td>\n",
       "<td>locked, healthy</td></tr>\n",
       "<tr><td>H2O_connection_url:</td>\n",
       "<td>http://localhost:54321</td></tr>\n",
       "<tr><td>H2O_connection_proxy:</td>\n",
       "<td>{\"http\": null, \"https\": null}</td></tr>\n",
       "<tr><td>H2O_internal_security:</td>\n",
       "<td>False</td></tr>\n",
       "<tr><td>H2O_API_Extensions:</td>\n",
       "<td>Amazon S3, XGBoost, Algos, AutoML, Core V3, TargetEncoder, Core V4</td></tr>\n",
       "<tr><td>Python_version:</td>\n",
       "<td>3.8.5 final</td></tr></table></div>"
      ],
      "text/plain": [
       "--------------------------  ------------------------------------------------------------------\n",
       "H2O_cluster_uptime:         03 secs\n",
       "H2O_cluster_timezone:       Asia/Tokyo\n",
       "H2O_data_parsing_timezone:  UTC\n",
       "H2O_cluster_version:        3.30.1.1\n",
       "H2O_cluster_version_age:    13 days\n",
       "H2O_cluster_name:           H2O_from_python_congvc_c3ir9f\n",
       "H2O_cluster_total_nodes:    1\n",
       "H2O_cluster_free_memory:    3.541 Gb\n",
       "H2O_cluster_total_cores:    8\n",
       "H2O_cluster_allowed_cores:  8\n",
       "H2O_cluster_status:         locked, healthy\n",
       "H2O_connection_url:         http://localhost:54321\n",
       "H2O_connection_proxy:       {\"http\": null, \"https\": null}\n",
       "H2O_internal_security:      False\n",
       "H2O_API_Extensions:         Amazon S3, XGBoost, Algos, AutoML, Core V3, TargetEncoder, Core V4\n",
       "Python_version:             3.8.5 final\n",
       "--------------------------  ------------------------------------------------------------------"
      ]
     },
     "metadata": {},
     "output_type": "display_data"
    },
    {
     "name": "stderr",
     "output_type": "stream",
     "text": [
      "INFO:automl:x=['Pclass', 'Sex', 'Age', 'Siblings/Spouses Aboard', 'Parents/Children Aboard', 'Fare'], y=Survived\n",
      "AutoML progress: |████████████████████████████████████████████████████████| 100%\n"
     ]
    },
    {
     "data": {
      "text/html": [
       "<table>\n",
       "<thead>\n",
       "<tr><th>model_id                                           </th><th style=\"text-align: right;\">     auc</th><th style=\"text-align: right;\">  logloss</th><th style=\"text-align: right;\">   aucpr</th><th style=\"text-align: right;\">  mean_per_class_error</th><th style=\"text-align: right;\">    rmse</th><th style=\"text-align: right;\">     mse</th></tr>\n",
       "</thead>\n",
       "<tbody>\n",
       "<tr><td>XGBoost_1_AutoML_20200823_173118                   </td><td style=\"text-align: right;\">0.869836</td><td style=\"text-align: right;\"> 0.430357</td><td style=\"text-align: right;\">0.834317</td><td style=\"text-align: right;\">              0.186008</td><td style=\"text-align: right;\">0.363681</td><td style=\"text-align: right;\">0.132264</td></tr>\n",
       "<tr><td>GBM_grid__1_AutoML_20200823_173118_model_8         </td><td style=\"text-align: right;\">0.862184</td><td style=\"text-align: right;\"> 0.432782</td><td style=\"text-align: right;\">0.833805</td><td style=\"text-align: right;\">              0.196513</td><td style=\"text-align: right;\">0.36766 </td><td style=\"text-align: right;\">0.135174</td></tr>\n",
       "<tr><td>GBM_grid__1_AutoML_20200823_173118_model_7         </td><td style=\"text-align: right;\">0.862175</td><td style=\"text-align: right;\"> 0.427057</td><td style=\"text-align: right;\">0.840732</td><td style=\"text-align: right;\">              0.188708</td><td style=\"text-align: right;\">0.366216</td><td style=\"text-align: right;\">0.134114</td></tr>\n",
       "<tr><td>StackedEnsemble_BestOfFamily_AutoML_20200823_173118</td><td style=\"text-align: right;\">0.861146</td><td style=\"text-align: right;\"> 0.427444</td><td style=\"text-align: right;\">0.82446 </td><td style=\"text-align: right;\">              0.192913</td><td style=\"text-align: right;\">0.364223</td><td style=\"text-align: right;\">0.132659</td></tr>\n",
       "<tr><td>GBM_grid__1_AutoML_20200823_173118_model_5         </td><td style=\"text-align: right;\">0.860065</td><td style=\"text-align: right;\"> 0.437685</td><td style=\"text-align: right;\">0.832411</td><td style=\"text-align: right;\">              0.197879</td><td style=\"text-align: right;\">0.369891</td><td style=\"text-align: right;\">0.136819</td></tr>\n",
       "<tr><td>DeepLearning_grid__1_AutoML_20200823_173118_model_2</td><td style=\"text-align: right;\">0.85936 </td><td style=\"text-align: right;\"> 0.455381</td><td style=\"text-align: right;\">0.816905</td><td style=\"text-align: right;\">              0.201946</td><td style=\"text-align: right;\">0.372461</td><td style=\"text-align: right;\">0.138727</td></tr>\n",
       "<tr><td>GBM_4_AutoML_20200823_173118                       </td><td style=\"text-align: right;\">0.859118</td><td style=\"text-align: right;\"> 0.440452</td><td style=\"text-align: right;\">0.825617</td><td style=\"text-align: right;\">              0.192879</td><td style=\"text-align: right;\">0.367744</td><td style=\"text-align: right;\">0.135236</td></tr>\n",
       "<tr><td>GBM_grid__1_AutoML_20200823_173118_model_4         </td><td style=\"text-align: right;\">0.858741</td><td style=\"text-align: right;\"> 0.43965 </td><td style=\"text-align: right;\">0.821635</td><td style=\"text-align: right;\">              0.198536</td><td style=\"text-align: right;\">0.36907 </td><td style=\"text-align: right;\">0.136212</td></tr>\n",
       "<tr><td>GBM_3_AutoML_20200823_173118                       </td><td style=\"text-align: right;\">0.857637</td><td style=\"text-align: right;\"> 0.442523</td><td style=\"text-align: right;\">0.828814</td><td style=\"text-align: right;\">              0.192965</td><td style=\"text-align: right;\">0.371213</td><td style=\"text-align: right;\">0.137799</td></tr>\n",
       "<tr><td>GBM_grid__1_AutoML_20200823_173118_model_9         </td><td style=\"text-align: right;\">0.856846</td><td style=\"text-align: right;\"> 0.443073</td><td style=\"text-align: right;\">0.813406</td><td style=\"text-align: right;\">              0.199679</td><td style=\"text-align: right;\">0.372432</td><td style=\"text-align: right;\">0.138705</td></tr>\n",
       "</tbody>\n",
       "</table>"
      ]
     },
     "metadata": {},
     "output_type": "display_data"
    },
    {
     "name": "stderr",
     "output_type": "stream",
     "text": [
      "INFO:automl:\n",
      "INFO:automl:test_auc 0.8668909592822637, test_aucpr 0.8631685083917797\n",
      "INFO:automl:### Test and run the saved model as ###\n",
      "\n",
      "export PRE_MODEL=/var/folders/j5/1fzcsqzd2_j1s3_5d3qm447h0000gn/T/tmpzuu7yzw9/prep.model\n",
      "export H2O_MODEL=/private/var/folders/j5/1fzcsqzd2_j1s3_5d3qm447h0000gn/T/tmpfeikjvr6/XGBoost_1_AutoML_20200823_173118\n",
      "export MLFLOW_MODEL=/var/folders/j5/1fzcsqzd2_j1s3_5d3qm447h0000gn/T/tmp124pwlzx/main.model\n",
      "export PYTHONPATH=src\n",
      "\n",
      "pytest test/test_load_model.py\n",
      "\n",
      "mlflow models serve -m $MLFLOW_MODEL\n",
      "\n"
     ]
    }
   ],
   "source": [
    "try:\n",
    "    from IPython import get_ipython\n",
    "\n",
    "    if ipy := get_ipython():\n",
    "        ipy.run_line_magic(\"load_ext\", \"autoreload\")\n",
    "        ipy.run_line_magic(\"autoreload\", \"2\")\n",
    "except:\n",
    "    print(\"Not using Jupyter\")\n",
    "\n",
    "from config import logger\n",
    "from train import train\n",
    "\n",
    "if __name__ == \"__main__\":\n",
    "    logger.info(\"Start training\")\n",
    "    train()\n"
   ]
  }
 ],
 "metadata": {
  "kernelspec": {
   "display_name": "Python 3",
   "language": "python",
   "name": "python3"
  },
  "language_info": {
   "codemirror_mode": {
    "name": "ipython",
    "version": 3
   },
   "file_extension": ".py",
   "mimetype": "text/x-python",
   "name": "python",
   "nbconvert_exporter": "python",
   "pygments_lexer": "ipython3",
   "version": "3.8.5"
  },
  "toc": {
   "base_numbering": 1,
   "nav_menu": {},
   "number_sections": true,
   "sideBar": true,
   "skip_h1_title": true,
   "title_cell": "Table of Contents",
   "title_sidebar": "Contents",
   "toc_cell": true,
   "toc_position": {},
   "toc_section_display": true,
   "toc_window_display": true
  }
 },
 "nbformat": 4,
 "nbformat_minor": 2
}
